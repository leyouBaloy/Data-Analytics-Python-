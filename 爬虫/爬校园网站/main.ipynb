{
 "cells": [
  {
   "cell_type": "code",
   "execution_count": 52,
   "metadata": {},
   "outputs": [],
   "source": [
    "import requests\n",
    "from bs4 import BeautifulSoup\n",
    "import re\n",
    "import time"
   ]
  },
  {
   "cell_type": "code",
   "execution_count": 4,
   "metadata": {},
   "outputs": [],
   "source": [
    "url = \"http://www.upc.edu.cn/xygk/xywh.htm\"\n",
    "response = requests.get(url)\n",
    "soup = BeautifulSoup(response.content,'lxml')"
   ]
  },
  {
   "cell_type": "markdown",
   "metadata": {},
   "source": [
    "找规律\n",
    " <h3>校园文化</h3>\n",
    "    <div id=\"vsb_content_1006_u101\"><div id=\"vsb_content\"><div class=\"xywh-l fl\">\n",
    " <div class=\"section xm\">\n",
    "  <div class=\"hd\">\n",
    "   <div class=\"fl\">\n",
    "    校名\n",
    "   </div>\n",
    "   <div class=\"fr\">\n",
    "    <a href=\"../files/xm.rar\" target=\"_blank\">点击矢量图下载 </a>&nbsp;\n",
    "   </div>\n",
    "  </div>\n",
    "  <div class=\"pic\">\n",
    "   <img alt=\"\" src=\"/__local/9/62/EC/F7B35315F8145B6946FFC0F17D9_C3B03338_55B4.png\" vsbhref=\"vurl\" vurl=\"/_vsl/962ECF7B35315F8145B6946FFC0F17D9/C3B03338/55B4\" vheight=\"\" vwidth=\"\" orisrc=\"/__local/9/62/EC/F7B35315F8145B6946FFC0F17D9_C3B03338_55B4.png\" class=\"img_vsb_content\"> &nbsp;\n",
    "  </div>\n",
    " </div>\n",
    " <div class=\"section\">\n",
    "  <div class=\"hd\">\n",
    "   校歌\n",
    "  </div>\n",
    "  <div class=\"pic\">\n",
    "   <img alt=\"\" src=\"/__local/8/2D/0D/5CA8B3D8EAE84524B99DA08A212_05DA246B_299BE.png\" vsbhref=\"vurl\" vurl=\"/_vsl/82D0D5CA8B3D8EAE84524B99DA08A212/05DA246B/299BE\" vheight=\"\" vwidth=\"\" orisrc=\"/__local/8/2D/0D/5CA8B3D8EAE84524B99DA08A212_05DA246B_299BE.png\" class=\"img_vsb_content\"> &nbsp;\n",
    "  </div>\n",
    " </div>\n",
    " <div class=\"section xf\">\n",
    "  <div class=\"hd\">\n",
    "   学风\n",
    "  </div>\n",
    "  <div class=\"pic\">\n",
    "   <img alt=\"\" src=\"/__local/8/AD/2C/1A721B6D64C003F2054D9C6103C_A575605F_4061.png\" vsbhref=\"vurl\" vurl=\"/_vsl/8AD2C1A721B6D64C003F2054D9C6103C/A575605F/4061\" vheight=\"\" vwidth=\"\" orisrc=\"/__local/8/AD/2C/1A721B6D64C003F2054D9C6103C_A575605F_4061.png\" class=\"img_vsb_content\"> &nbsp;\n",
    "  </div>\n",
    " </div>\n",
    "</div>\n",
    "<div class=\"xywh-r fr\">\n",
    " <div class=\"section\">\n",
    "  <div class=\"hd\">\n",
    "   <div class=\"fl\">\n",
    "    校标\n",
    "   </div>\n",
    "   <div class=\"fr\">\n",
    "    <a href=\"../files/xb.rar\" target=\"_blank\">点击矢量图下载</a> &nbsp;\n",
    "   </div>\n",
    "  </div>\n",
    "  <div class=\"pic\">\n",
    "   <img alt=\"\" src=\"/__local/C/F5/A5/5D4E68C8E5AC5EAC303B91B6AF3_8B597FCD_855B.png\" vsbhref=\"vurl\" vurl=\"/_vsl/CF5A55D4E68C8E5AC5EAC303B91B6AF3/8B597FCD/855B\" vheight=\"\" vwidth=\"\" orisrc=\"/__local/C/F5/A5/5D4E68C8E5AC5EAC303B91B6AF3_8B597FCD_855B.png\" class=\"img_vsb_content\"> &nbsp;\n",
    "  </div>\n",
    " </div>\n",
    " <div class=\"section\">\n",
    "  <div class=\"hd\">\n",
    "   校旗\n",
    "  </div>\n",
    "  <div class=\"pic\">\n",
    "   <img alt=\"\" src=\"/__local/2/09/DF/40E33CC7A2322F14C8992F9C33E_3225D364_4B2D.png\" vsbhref=\"vurl\" vurl=\"/_vsl/209DF40E33CC7A2322F14C8992F9C33E/3225D364/4B2D\" vheight=\"\" vwidth=\"\" orisrc=\"/__local/2/09/DF/40E33CC7A2322F14C8992F9C33E_3225D364_4B2D.png\" class=\"img_vsb_content\"> &nbsp;\n",
    "  </div>\n",
    " </div>\n",
    " <div class=\"section\">\n",
    "  <div class=\"hd\">\n",
    "   校风\n",
    "  </div>\n",
    "  <div class=\"pic\">\n",
    "   <img alt=\"\" src=\"/__local/9/9A/48/D77D3F8EDD0B5FA0BE300F0E325_A1508396_45FD.png\" vsbhref=\"vurl\" vurl=\"/_vsl/99A48D77D3F8EDD0B5FA0BE300F0E325/A1508396/45FD\" vheight=\"\" vwidth=\"\" orisrc=\"/__local/9/9A/48/D77D3F8EDD0B5FA0BE300F0E325_A1508396_45FD.png\" class=\"img_vsb_content\"> &nbsp;\n",
    "  </div>\n",
    " </div>\n",
    " <div class=\"section\">\n",
    "  <div class=\"hd\">\n",
    "   校训\n",
    "  </div>\n",
    "  <div class=\"pic\">\n",
    "   <img alt=\"\" src=\"/__local/1/90/37/3B008F4D65670759E4B0E325BCE_7606590A_A17E.png\" vsbhref=\"vurl\" vurl=\"/_vsl/190373B008F4D65670759E4B0E325BCE/7606590A/A17E\" vheight=\"\" vwidth=\"\" orisrc=\"/__local/1/90/37/3B008F4D65670759E4B0E325BCE_7606590A_A17E.png\" class=\"img_vsb_content\"> &nbsp;\n",
    "  </div>\n",
    " </div>\n",
    " <div class=\"section\">\n",
    "  <div class=\"hd\">\n",
    "   校庆日\n",
    "  </div>\n",
    "  <div class=\"pic\">\n",
    "   <p>学校校庆日为10月1日。</p>\n",
    "  </div>\n",
    " </div>\n",
    " <div class=\"section\">\n",
    "  <div class=\"hd\">\n",
    "   石大精神\n",
    "  </div>\n",
    "  <div class=\"pic\">\n",
    "   <p style=\"text-align: left;\"><img src=\"/__local/C/CF/8B/BD43E93946599B07E1EF2D2B0B3_DE79577D_6B57.png\" width=\"500\" vsbhref=\"vurl\" vurl=\"/_vsl/CCF8BBD43E93946599B07E1EF2D2B0B3/DE79577D/6B57\" vheight=\"\" vwidth=\"500\" orisrc=\"/__local/C/CF/8B/BD43E93946599B07E1EF2D2B0B3_DE79577D_6B57.png\" class=\"img_vsb_content\"></p>&nbsp;&nbsp;\n",
    "  </div>\n",
    " </div>\n",
    "</div>"
   ]
  },
  {
   "cell_type": "code",
   "execution_count": 18,
   "metadata": {},
   "outputs": [
    {
     "name": "stdout",
     "output_type": "stream",
     "text": [
      "<div class=\"section xm\">\n",
      "<div class=\"hd\">\n",
      "<div class=\"fl\">\r\n",
      "    校名\r\n",
      "   </div>\n",
      "<div class=\"fr\">\n",
      "<a href=\"../files/xm.rar\" target=\"_blank\">点击矢量图下载 </a> \r\n",
      "   </div>\n",
      "</div>\n",
      "<div class=\"pic\">\n",
      "<img alt=\"\" class=\"img_vsb_content\" orisrc=\"/__local/9/62/EC/F7B35315F8145B6946FFC0F17D9_C3B03338_55B4.png\" src=\"/__local/9/62/EC/F7B35315F8145B6946FFC0F17D9_C3B03338_55B4.png\" vheight=\"\" vsbhref=\"vurl\" vurl=\"/_vsl/962ECF7B35315F8145B6946FFC0F17D9/C3B03338/55B4\" vwidth=\"\"/>  \r\n",
      "  </div>\n",
      "</div>\n",
      "<div class=\"section\">\n",
      "<div class=\"hd\">\r\n",
      "   校歌\r\n",
      "  </div>\n",
      "<div class=\"pic\">\n",
      "<img alt=\"\" class=\"img_vsb_content\" orisrc=\"/__local/8/2D/0D/5CA8B3D8EAE84524B99DA08A212_05DA246B_299BE.png\" src=\"/__local/8/2D/0D/5CA8B3D8EAE84524B99DA08A212_05DA246B_299BE.png\" vheight=\"\" vsbhref=\"vurl\" vurl=\"/_vsl/82D0D5CA8B3D8EAE84524B99DA08A212/05DA246B/299BE\" vwidth=\"\"/>  \r\n",
      "  </div>\n",
      "</div>\n",
      "<div class=\"section xf\">\n",
      "<div class=\"hd\">\r\n",
      "   学风\r\n",
      "  </div>\n",
      "<div class=\"pic\">\n",
      "<img alt=\"\" class=\"img_vsb_content\" orisrc=\"/__local/8/AD/2C/1A721B6D64C003F2054D9C6103C_A575605F_4061.png\" src=\"/__local/8/AD/2C/1A721B6D64C003F2054D9C6103C_A575605F_4061.png\" vheight=\"\" vsbhref=\"vurl\" vurl=\"/_vsl/8AD2C1A721B6D64C003F2054D9C6103C/A575605F/4061\" vwidth=\"\"/>  \r\n",
      "  </div>\n",
      "</div>\n",
      "<div class=\"section\">\n",
      "<div class=\"hd\">\n",
      "<div class=\"fl\">\r\n",
      "    校标\r\n",
      "   </div>\n",
      "<div class=\"fr\">\n",
      "<a href=\"../files/xb.rar\" target=\"_blank\">点击矢量图下载</a>  \r\n",
      "   </div>\n",
      "</div>\n",
      "<div class=\"pic\">\n",
      "<img alt=\"\" class=\"img_vsb_content\" orisrc=\"/__local/C/F5/A5/5D4E68C8E5AC5EAC303B91B6AF3_8B597FCD_855B.png\" src=\"/__local/C/F5/A5/5D4E68C8E5AC5EAC303B91B6AF3_8B597FCD_855B.png\" vheight=\"\" vsbhref=\"vurl\" vurl=\"/_vsl/CF5A55D4E68C8E5AC5EAC303B91B6AF3/8B597FCD/855B\" vwidth=\"\"/>  \r\n",
      "  </div>\n",
      "</div>\n",
      "<div class=\"section\">\n",
      "<div class=\"hd\">\r\n",
      "   校旗\r\n",
      "  </div>\n",
      "<div class=\"pic\">\n",
      "<img alt=\"\" class=\"img_vsb_content\" orisrc=\"/__local/2/09/DF/40E33CC7A2322F14C8992F9C33E_3225D364_4B2D.png\" src=\"/__local/2/09/DF/40E33CC7A2322F14C8992F9C33E_3225D364_4B2D.png\" vheight=\"\" vsbhref=\"vurl\" vurl=\"/_vsl/209DF40E33CC7A2322F14C8992F9C33E/3225D364/4B2D\" vwidth=\"\"/>  \r\n",
      "  </div>\n",
      "</div>\n",
      "<div class=\"section\">\n",
      "<div class=\"hd\">\r\n",
      "   校风\r\n",
      "  </div>\n",
      "<div class=\"pic\">\n",
      "<img alt=\"\" class=\"img_vsb_content\" orisrc=\"/__local/9/9A/48/D77D3F8EDD0B5FA0BE300F0E325_A1508396_45FD.png\" src=\"/__local/9/9A/48/D77D3F8EDD0B5FA0BE300F0E325_A1508396_45FD.png\" vheight=\"\" vsbhref=\"vurl\" vurl=\"/_vsl/99A48D77D3F8EDD0B5FA0BE300F0E325/A1508396/45FD\" vwidth=\"\"/>  \r\n",
      "  </div>\n",
      "</div>\n",
      "<div class=\"section\">\n",
      "<div class=\"hd\">\r\n",
      "   校训\r\n",
      "  </div>\n",
      "<div class=\"pic\">\n",
      "<img alt=\"\" class=\"img_vsb_content\" orisrc=\"/__local/1/90/37/3B008F4D65670759E4B0E325BCE_7606590A_A17E.png\" src=\"/__local/1/90/37/3B008F4D65670759E4B0E325BCE_7606590A_A17E.png\" vheight=\"\" vsbhref=\"vurl\" vurl=\"/_vsl/190373B008F4D65670759E4B0E325BCE/7606590A/A17E\" vwidth=\"\"/>  \r\n",
      "  </div>\n",
      "</div>\n",
      "<div class=\"section\">\n",
      "<div class=\"hd\">\r\n",
      "   校庆日\r\n",
      "  </div>\n",
      "<div class=\"pic\">\n",
      "<p>学校校庆日为10月1日。</p>\n",
      "</div>\n",
      "</div>\n",
      "<div class=\"section\">\n",
      "<div class=\"hd\">\r\n",
      "   石大精神\r\n",
      "  </div>\n",
      "<div class=\"pic\">\n",
      "<p style=\"text-align: left;\"><img class=\"img_vsb_content\" orisrc=\"/__local/C/CF/8B/BD43E93946599B07E1EF2D2B0B3_DE79577D_6B57.png\" src=\"/__local/C/CF/8B/BD43E93946599B07E1EF2D2B0B3_DE79577D_6B57.png\" vheight=\"\" vsbhref=\"vurl\" vurl=\"/_vsl/CCF8BBD43E93946599B07E1EF2D2B0B3/DE79577D/6B57\" vwidth=\"500\" width=\"500\"/></p>  \r\n",
      "  </div>\n",
      "</div>\n"
     ]
    }
   ],
   "source": [
    "sections = soup.find_all(\"div\",class_=re.compile(\"section.*\"))\n",
    "for section in sections:\n",
    "    print(section)"
   ]
  },
  {
   "cell_type": "code",
   "execution_count": 57,
   "metadata": {},
   "outputs": [],
   "source": [
    "img = {}"
   ]
  },
  {
   "cell_type": "code",
   "execution_count": 58,
   "metadata": {
    "scrolled": false
   },
   "outputs": [
    {
     "name": "stdout",
     "output_type": "stream",
     "text": [
      "校名\n",
      "http://www.upc.edu.cn/__local/9/62/EC/F7B35315F8145B6946FFC0F17D9_C3B03338_55B4.png\n",
      "校歌\n",
      "http://www.upc.edu.cn/__local/8/2D/0D/5CA8B3D8EAE84524B99DA08A212_05DA246B_299BE.png\n",
      "学风\n",
      "http://www.upc.edu.cn/__local/8/AD/2C/1A721B6D64C003F2054D9C6103C_A575605F_4061.png\n",
      "校标\n",
      "http://www.upc.edu.cn/__local/C/F5/A5/5D4E68C8E5AC5EAC303B91B6AF3_8B597FCD_855B.png\n",
      "校旗\n",
      "http://www.upc.edu.cn/__local/2/09/DF/40E33CC7A2322F14C8992F9C33E_3225D364_4B2D.png\n",
      "校风\n",
      "http://www.upc.edu.cn/__local/9/9A/48/D77D3F8EDD0B5FA0BE300F0E325_A1508396_45FD.png\n",
      "校训\n",
      "http://www.upc.edu.cn/__local/1/90/37/3B008F4D65670759E4B0E325BCE_7606590A_A17E.png\n",
      "石大精神\n",
      "http://www.upc.edu.cn/__local/C/CF/8B/BD43E93946599B07E1EF2D2B0B3_DE79577D_6B57.png\n"
     ]
    }
   ],
   "source": [
    "for section in sections:\n",
    "    try:\n",
    "        name = section.find(\"div\",class_=\"hd\").text\n",
    "        name = name.split()[0]\n",
    "        path = r\"http://www.upc.edu.cn\"+section.find(\"img\",class_=\"img_vsb_content\")[\"src\"]\n",
    "        print(name)\n",
    "        print(path)\n",
    "    except:\n",
    "        pass\n",
    "    img[name]=path"
   ]
  },
  {
   "cell_type": "code",
   "execution_count": 59,
   "metadata": {},
   "outputs": [
    {
     "name": "stdout",
     "output_type": "stream",
     "text": [
      "{'校名': 'http://www.upc.edu.cn/__local/9/62/EC/F7B35315F8145B6946FFC0F17D9_C3B03338_55B4.png', '校歌': 'http://www.upc.edu.cn/__local/8/2D/0D/5CA8B3D8EAE84524B99DA08A212_05DA246B_299BE.png', '学风': 'http://www.upc.edu.cn/__local/8/AD/2C/1A721B6D64C003F2054D9C6103C_A575605F_4061.png', '校标': 'http://www.upc.edu.cn/__local/C/F5/A5/5D4E68C8E5AC5EAC303B91B6AF3_8B597FCD_855B.png', '校旗': 'http://www.upc.edu.cn/__local/2/09/DF/40E33CC7A2322F14C8992F9C33E_3225D364_4B2D.png', '校风': 'http://www.upc.edu.cn/__local/9/9A/48/D77D3F8EDD0B5FA0BE300F0E325_A1508396_45FD.png', '校训': 'http://www.upc.edu.cn/__local/1/90/37/3B008F4D65670759E4B0E325BCE_7606590A_A17E.png', '校庆日': 'http://www.upc.edu.cn/__local/1/90/37/3B008F4D65670759E4B0E325BCE_7606590A_A17E.png', '石大精神': 'http://www.upc.edu.cn/__local/C/CF/8B/BD43E93946599B07E1EF2D2B0B3_DE79577D_6B57.png'}\n"
     ]
    }
   ],
   "source": [
    "# print(img)"
   ]
  },
  {
   "cell_type": "code",
   "execution_count": 61,
   "metadata": {},
   "outputs": [],
   "source": [
    "for name,url in img.items():\n",
    "    r = requests.get(url)\n",
    "    time.sleep(1)\n",
    "    with open(f'./{name}.png','wb')as fout:\n",
    "        fout.write(r.content)"
   ]
  },
  {
   "cell_type": "code",
   "execution_count": null,
   "metadata": {},
   "outputs": [],
   "source": []
  }
 ],
 "metadata": {
  "kernelspec": {
   "display_name": "Python 3",
   "language": "python",
   "name": "python3"
  },
  "language_info": {
   "codemirror_mode": {
    "name": "ipython",
    "version": 3
   },
   "file_extension": ".py",
   "mimetype": "text/x-python",
   "name": "python",
   "nbconvert_exporter": "python",
   "pygments_lexer": "ipython3",
   "version": "3.8.5"
  }
 },
 "nbformat": 4,
 "nbformat_minor": 4
}
